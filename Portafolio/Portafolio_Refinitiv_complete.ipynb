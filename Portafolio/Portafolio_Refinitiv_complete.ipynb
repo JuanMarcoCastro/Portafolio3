{
 "cells": [
  {
   "cell_type": "markdown",
   "id": "939a6cc3",
   "metadata": {},
   "source": [
    "# Plantilla completa: Portafolio conectado a Refinitiv (fallback a yfinance)\n",
    "\n",
    "Este notebook descarga históricos de precios para una lista de activos (intenta usar Refinitiv vía `datafromsource.py`; si no está disponible, usa `yfinance`), construye una estrategia SMA (21/63), calcula métricas por activo, realiza un backtest y monta un portafolio equiponderado con $1,000,000 de capital (10% por activo).\n",
    "\n",
    "NOTA: No ejecutes la sección de Refinitiv sin tus credenciales; el notebook usa el módulo local `datafromsource.py` como puente a la API que tengas configurada."
   ]
  },
  {
   "cell_type": "markdown",
   "id": "26c1a4de",
   "metadata": {},
   "source": [
    "## Contenido y flujo\n",
    "- Instalación de dependencias (si hace falta)\n",
    "- Configuración / importación de `datafromsource` (Refinitiv) y fallback a `yfinance`\n",
    "- Definición de símbolos y parámetros (capital inicial, pesos)\n",
    "- Funciones: descarga segura, SMA strategy, métricas, conteo trades\n",
    "- Descarga de datos, construcción de estrategia por activo, tabla de métricas\n",
    "- Construcción de portafolio equiponderado ($1,000,000, 10% por activo) – curvas de equity BH vs Estrategia\n",
    "- Optimización Markowitz (opcional) y export de resultados\n"
   ]
  },
  {
   "cell_type": "code",
   "execution_count": null,
   "id": "774b6461",
   "metadata": {},
   "outputs": [],
   "source": [
    "# 1) Dependencias - instala si falta (en Jupyter puede tardar)\n",
    "import sys\n",
    "import subprocess\n"
   ]
  },
  {
   "cell_type": "code",
   "execution_count": null,
   "id": "38522546",
   "metadata": {},
   "outputs": [],
   "source": []
  },
  {
   "cell_type": "code",
   "execution_count": null,
   "id": "518b1ff4",
   "metadata": {},
   "outputs": [],
   "source": []
  }
 ],
 "metadata": {
  "language_info": {
   "name": "python"
  }
 },
 "nbformat": 4,
 "nbformat_minor": 5
}
